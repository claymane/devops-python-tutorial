{
  "nbformat": 4,
  "nbformat_minor": 0,
  "metadata": {
    "colab": {
      "provenance": [],
      "collapsed_sections": [
        "3IZPS76tBlJT",
        "AkXJyYSfCJee",
        "ngvREGsuSyZE"
      ],
      "toc_visible": true,
      "authorship_tag": "ABX9TyN3UFy/wwUeXi4ZzSfTnqIZ",
      "include_colab_link": true
    },
    "kernelspec": {
      "name": "python3",
      "display_name": "Python 3"
    },
    "language_info": {
      "name": "python"
    }
  },
  "cells": [
    {
      "cell_type": "markdown",
      "metadata": {
        "id": "view-in-github",
        "colab_type": "text"
      },
      "source": [
        "<a href=\"https://colab.research.google.com/github/claymane/devops-python-tutorial/blob/main/devops_python_tutorial.ipynb\" target=\"_parent\"><img src=\"https://colab.research.google.com/assets/colab-badge.svg\" alt=\"Open In Colab\"/></a>"
      ]
    },
    {
      "cell_type": "markdown",
      "source": [
        "## Devops-python-tutorial\n",
        "\n",
        "> Indented block\n",
        "\n"
      ],
      "metadata": {
        "id": "UaK2maKEBWb7"
      }
    },
    {
      "cell_type": "markdown",
      "source": [
        "### Statements in Python"
      ],
      "metadata": {
        "id": "3IZPS76tBlJT"
      }
    },
    {
      "cell_type": "code",
      "source": [
        "print(\"hello world\")"
      ],
      "metadata": {
        "id": "wTOtAX6QBqWB"
      },
      "execution_count": null,
      "outputs": []
    },
    {
      "cell_type": "code",
      "source": [
        "name = \"Austin Clay\"\n",
        "print(f\"hello {name}\")"
      ],
      "metadata": {
        "id": "zwxTXMPAB5eb"
      },
      "execution_count": null,
      "outputs": []
    },
    {
      "cell_type": "markdown",
      "source": [
        "### Datastructures: Lists and Dictionaries\n",
        "List -- An array\n",
        "Dictionary -- Key value pairs"
      ],
      "metadata": {
        "id": "AkXJyYSfCJee"
      }
    },
    {
      "cell_type": "code",
      "source": [
        "groceryList = [\"Bread\", \"Ribeye Steak\", \"Cucumbers\"]\n",
        "print(groceryList[0])\n",
        "type(groceryList)\n",
        "for item in groceryList:\n",
        "  print(f\"Gotta get my {item} for dinner!\")"
      ],
      "metadata": {
        "colab": {
          "base_uri": "https://localhost:8080/"
        },
        "id": "2RwwFywyCNSj",
        "outputId": "b9a468dd-beac-4334-801f-3ee1a69036ef"
      },
      "execution_count": null,
      "outputs": [
        {
          "output_type": "stream",
          "name": "stdout",
          "text": [
            "Bread\n",
            "Gotta get my Bread for dinner!\n",
            "Gotta get my Ribeye Steak for dinner!\n",
            "Gotta get my Cucumbers for dinner!\n"
          ]
        }
      ]
    },
    {
      "cell_type": "code",
      "source": [
        "groceryList = {\"breakfast\" : \"hotdogs\", \"lunch\" : \"sandwich\", \"dinner\" : \"bread\"}\n",
        "print(groceryList.keys())\n",
        "print(groceryList.values())\n",
        "# Important to use the items function to access a dictionary like\n",
        "for key, value in groceryList.items():\n",
        "  print(f\"Gotta get my {value} for {key}!\")"
      ],
      "metadata": {
        "colab": {
          "base_uri": "https://localhost:8080/"
        },
        "id": "WQ_MhWBJDBq0",
        "outputId": "fc4c8579-8df4-44a3-9c68-d6dd890e30e7"
      },
      "execution_count": null,
      "outputs": [
        {
          "output_type": "stream",
          "name": "stdout",
          "text": [
            "dict_keys(['breakfast', 'lunch', 'dinner'])\n",
            "dict_values(['hotdogs', 'sandwich', 'bread'])\n",
            "Gotta get my hotdogs for breakfast!\n",
            "Gotta get my sandwich for lunch!\n",
            "Gotta get my bread for dinner!\n"
          ]
        }
      ]
    },
    {
      "cell_type": "markdown",
      "source": [
        "### Project Scaffolding\n",
        "* Makefile -- file for building the application\n",
        "(Always ensure you set indentation to tabs before working on makefile)\n",
        "* requirements.txt -- requirements for the application\n",
        "* venv -- virtual environment for reliably including dependencies\n",
        "* test_library.py\n",
        "* python_library\n",
        "* Dockerfile\n",
        "* command-line-tool\n",
        "* microservice"
      ],
      "metadata": {
        "id": "ngvREGsuSyZE"
      }
    },
    {
      "cell_type": "markdown",
      "source": [
        "**Git/Virtualenv**\n",
        "\n",
        "The goal is to make things reproducible on any environment.\n",
        "\n",
        "**Basic template for staging, commiting and pushing changes to a repo**\n",
        "\n",
        "**!/bin/bash**\n",
        "`git add *`\n",
        "`git commit -m 'optional message'`\n",
        "`git push`\n",
        "\n",
        "**To add a virtual environment to a system run one of the following**\n",
        "\n",
        "**!/bin/bash**\n",
        "`virtualenv ~/.venv`\n",
        "`python3 -m venv ~/.venv`\n",
        "\n",
        "**Append the following to ~/.bashrc to automatically load your virtual environment in the cloud:**\n",
        "`source ~/.venv/bin/activate`"
      ],
      "metadata": {
        "id": "ia0UQxtQUqDL"
      }
    },
    {
      "cell_type": "markdown",
      "source": [
        "**Makefile**\n",
        "\n",
        "run Makefile with: `make install`"
      ],
      "metadata": {
        "id": "nrkUu56NXGG4"
      }
    },
    {
      "cell_type": "code",
      "source": [
        "# Makefile template\n",
        "\n",
        "install:\n",
        "\tpip install --upgrade pip &&\\\n",
        "\t\tpip install -r requirements.txt"
      ],
      "metadata": {
        "id": "2ja2rzfsXBo7"
      },
      "execution_count": null,
      "outputs": []
    },
    {
      "cell_type": "markdown",
      "source": [
        "**requirements.txt**\n",
        "Easy way to create an environment that is easily reproducible is to succesfully create your application run `pip freeze` and then copy the output to requirements.txt"
      ],
      "metadata": {
        "id": "2xO0BZSeX0Nw"
      }
    },
    {
      "cell_type": "markdown",
      "source": [
        "### Github Actions"
      ],
      "metadata": {
        "id": "XMjh7Tk6Peij"
      }
    },
    {
      "cell_type": "markdown",
      "source": [
        "The process of automatically creating an environment, linting, testing, formatting and deploying code via instructions set in the .github/main.yaml file."
      ],
      "metadata": {
        "id": "XU_6sLR2ZF36"
      }
    },
    {
      "cell_type": "code",
      "source": [
        " name: Test Multiple Python Version\n",
        " on: [push]\n",
        " jobs:\n",
        "   build:\n",
        "     runs-on: ubuntu-latest\n",
        "     strategy:\n",
        "       matrix:\n",
        "         python-version: [3.7, 3.8, 3.9]\n",
        "     steps:\n",
        "       - uses: actions/checkout@v2\n",
        "       - name: Set up Python ${{ matrix.python-version }}\n",
        "         uses: actions/setup-python@v2\n",
        "         with:\n",
        "           python-version: ${{ matrix.python-version }}\n",
        "       - name: Install dependencies\n",
        "         run: |\n",
        "           make install\n",
        "       - name: Lint with pylint\n",
        "         run: |\n",
        "           make lint\n",
        "       - name: Test with pytest\n",
        "         run: |\n",
        "           make test\n",
        "       - name: Format code with Python Black\n",
        "         run : |\n",
        "           make format"
      ],
      "metadata": {
        "id": "hUkczw91ZpWN"
      },
      "execution_count": null,
      "outputs": []
    }
  ]
}