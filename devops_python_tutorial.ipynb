{
  "nbformat": 4,
  "nbformat_minor": 0,
  "metadata": {
    "colab": {
      "provenance": [],
      "collapsed_sections": [
        "3IZPS76tBlJT"
      ],
      "toc_visible": true,
      "authorship_tag": "ABX9TyNSlgALiDDmVpex1qbUOBko",
      "include_colab_link": true
    },
    "kernelspec": {
      "name": "python3",
      "display_name": "Python 3"
    },
    "language_info": {
      "name": "python"
    }
  },
  "cells": [
    {
      "cell_type": "markdown",
      "metadata": {
        "id": "view-in-github",
        "colab_type": "text"
      },
      "source": [
        "<a href=\"https://colab.research.google.com/github/claymane/devops-python-tutorial/blob/main/devops_python_tutorial.ipynb\" target=\"_parent\"><img src=\"https://colab.research.google.com/assets/colab-badge.svg\" alt=\"Open In Colab\"/></a>"
      ]
    },
    {
      "cell_type": "markdown",
      "source": [
        "## Introduction to Python"
      ],
      "metadata": {
        "id": "UaK2maKEBWb7"
      }
    },
    {
      "cell_type": "markdown",
      "source": [
        "### Statements in Python"
      ],
      "metadata": {
        "id": "3IZPS76tBlJT"
      }
    },
    {
      "cell_type": "code",
      "source": [
        "print(\"hello world\")"
      ],
      "metadata": {
        "id": "wTOtAX6QBqWB"
      },
      "execution_count": null,
      "outputs": []
    },
    {
      "cell_type": "code",
      "source": [
        "name = \"Austin Clay\"\n",
        "print(f\"hello {name}\")"
      ],
      "metadata": {
        "id": "zwxTXMPAB5eb"
      },
      "execution_count": null,
      "outputs": []
    },
    {
      "cell_type": "markdown",
      "source": [
        "### Datastructures: Lists and Dictionaries\n",
        "List -- An array\n",
        "Dictionary -- Key value pairs"
      ],
      "metadata": {
        "id": "AkXJyYSfCJee"
      }
    },
    {
      "cell_type": "code",
      "source": [
        "groceryList = [\"Bread\", \"Ribeye Steak\", \"Cucumbers\"]\n",
        "print(groceryList[0])\n",
        "type(groceryList)\n",
        "for item in groceryList:\n",
        "  print(f\"Gotta get my {item} for dinner!\")"
      ],
      "metadata": {
        "colab": {
          "base_uri": "https://localhost:8080/"
        },
        "id": "2RwwFywyCNSj",
        "outputId": "b9a468dd-beac-4334-801f-3ee1a69036ef"
      },
      "execution_count": 17,
      "outputs": [
        {
          "output_type": "stream",
          "name": "stdout",
          "text": [
            "Bread\n",
            "Gotta get my Bread for dinner!\n",
            "Gotta get my Ribeye Steak for dinner!\n",
            "Gotta get my Cucumbers for dinner!\n"
          ]
        }
      ]
    },
    {
      "cell_type": "code",
      "source": [
        "groceryList = {\"breakfast\" : \"bacon\", \"lunch\" : \"sandwich\", \"dinner\" : \"bread\"}\n",
        "print(groceryList.keys())\n",
        "print(groceryList.values())\n",
        "# Important to use the items function to access a dictionary like\n",
        "for key, value in groceryList.items():\n",
        "  print(f\"Gotta get my {value} for {key}!\")"
      ],
      "metadata": {
        "colab": {
          "base_uri": "https://localhost:8080/"
        },
        "id": "WQ_MhWBJDBq0",
        "outputId": "a253f13d-c618-4cd1-ac5d-dbe5b0d95ca8"
      },
      "execution_count": 25,
      "outputs": [
        {
          "output_type": "stream",
          "name": "stdout",
          "text": [
            "dict_keys(['breakfast', 'lunch', 'dinner'])\n",
            "dict_values(['bacon', 'sandwich', 'bread'])\n",
            "Gotta get my bacon for breakfast!\n",
            "Gotta get my sandwich for lunch!\n",
            "Gotta get my bread for dinner!\n"
          ]
        }
      ]
    },
    {
      "cell_type": "markdown",
      "source": [
        "### Project Scaffolding\n",
        "* Makefile -- file for building the application\n",
        "(Always ensure you set indentation to tabs before working on makefile)\n",
        "* requirements.txt -- requirements for the application\n",
        "* venv -- virtual environment for reliably including dependencies\n",
        "* test_library.py\n",
        "* python_library\n",
        "* Dockerfile\n",
        "* command-line-tool\n",
        "* microservice"
      ],
      "metadata": {
        "id": "ngvREGsuSyZE"
      }
    },
    {
      "cell_type": "markdown",
      "source": [
        "**Git/Virtualenv**\n",
        "\n",
        "The goal is to make things reproducible on any environment.\n",
        "\n",
        "**Basic template for staging, commiting and pushing changes to a repo**\n",
        "\n",
        "**!/bin/bash**\n",
        "`git add *`\n",
        "`git commit -m 'optional message'`\n",
        "`git push`\n",
        "\n",
        "**To add a virtual environment to a system run one of the following**\n",
        "\n",
        "**!/bin/bash**\n",
        "`virtualenv ~/.venv`\n",
        "`python3 -m venv ~/.venv`\n",
        "\n",
        "**Append the following to ~/.bashrc to automatically load your virtual environment in the cloud:**\n",
        "`source ~/.venv/bin/activate`"
      ],
      "metadata": {
        "id": "ia0UQxtQUqDL"
      }
    },
    {
      "cell_type": "markdown",
      "source": [
        "**Makefile**\n",
        "\n",
        "run Makefile with: `make install`"
      ],
      "metadata": {
        "id": "nrkUu56NXGG4"
      }
    },
    {
      "cell_type": "code",
      "source": [
        "# Makefile template\n",
        "\n",
        "install:\n",
        "\tpip install --upgrade pip &&\\\n",
        "\t\tpip install -r requirements.txt"
      ],
      "metadata": {
        "id": "2ja2rzfsXBo7"
      },
      "execution_count": null,
      "outputs": []
    },
    {
      "cell_type": "markdown",
      "source": [
        "**requirements.txt**\n",
        "Easy way to create an environment that is easily reproducible is to succesfully create your application run `pip freeze` and then copy the output to requirements.txt"
      ],
      "metadata": {
        "id": "2xO0BZSeX0Nw"
      }
    }
  ]
}